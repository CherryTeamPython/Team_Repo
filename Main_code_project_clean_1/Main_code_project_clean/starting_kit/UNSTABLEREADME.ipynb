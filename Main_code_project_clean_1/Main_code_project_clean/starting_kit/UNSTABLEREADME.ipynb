{
 "cells": [
  {
   "cell_type": "code",
   "execution_count": 1,
   "metadata": {
    "collapsed": false,
    "deletable": true,
    "editable": true
   },
   "outputs": [
    {
     "name": "stdout",
     "output_type": "stream",
     "text": [
      "[-0.8001427  -1.30122755  0.23401387 ...,  0.61906741  0.38466701\n",
      " -1.75380525]\n",
      "[ 0.01699322  0.00511855  0.01201698 ...,  0.00317994 -0.00594304\n",
      " -0.09172559]\n",
      "[ 0.  1.  0. ...,  1.  7.  1.]\n",
      "[ 1.  4.  0. ...,  1.  1.  1.]\n"
     ]
    }
   ],
   "source": [
    "from sklearn import preprocessing\n",
    "import unittest\n",
    "import numpy as np\n",
    "\n",
    "class process:\n",
    "    \"\"\"\n",
    "    Class preprocessing constructor\n",
    "    @param data type .data\n",
    "    \"\"\"\n",
    "    def __init__(self):\n",
    "        self.features = np.loadtxt(\"public_data/crime_train.data\")\n",
    "        self.year,self.month,self.day,self.day_num,self.minute,self.hour,self.X,self.Y,self.PdDistrict,self.address,self.resolution=np.loadtxt(\"public_data/crime_train.data\", unpack=True)\n",
    "        self.labels = np.loadtxt(\"public_data/crime_train.solution\")\n",
    "        self.drug,self.larceny,self.missing_person,self.prostitution,self.vehicule_theft,self.warrants=np.loadtxt(\"public_data/crime_train.solution\", unpack=True)\n",
    "        self.outliers()\n",
    "    \n",
    "    \n",
    "\t\n",
    "\n",
    "    def outliers(self):\n",
    "        self.starKiller(self.resolution, 3, True)\n",
    "        self.starKiller(self.X, 1, True)\n",
    "        self.starKiller(self.Y, 1, True)\n",
    "\tself.one_column()\n",
    "       # self.resolution=preprocessing.RobustScaler(self.resolution)\n",
    "       # self.X=preprocessing.RobustScaler(self.X)\n",
    "       # self.Y=preprocessing.RobustScaler(self.Y)\n",
    "    \n",
    "\n",
    "    def getYear(self):\n",
    "        return self.year\n",
    "\n",
    "    def getFeatures(self):\n",
    "        return self.features\n",
    "\n",
    "    def getLabels(self):\n",
    "        return self.labels\n",
    "    \n",
    "    def getMonth(self):\n",
    "        return self.month\n",
    "    \n",
    "    def getDay(self):\n",
    "        return self.day\n",
    "    \n",
    "    def getDayNum(self):\n",
    "        return self.day_num\n",
    "    \n",
    "    def getMinute(self):\n",
    "        return self.minute\n",
    "    \n",
    "    def getHour(self):\n",
    "        return self.hour\n",
    "    \n",
    "    def getX(self):\n",
    "        return self.X\n",
    "    \n",
    "    def getY(self):\n",
    "        return self.Y\n",
    "    \n",
    "    def getPdDistrict(self):\n",
    "        return self.PdDistrict\n",
    "    \n",
    "    def getAddress(self):\n",
    "        return self.address\n",
    "    \n",
    "    def getResolution(self):\n",
    "        return self.resolution\n",
    "\n",
    "    def getDrug(self):\n",
    "        return self.drug\n",
    "    \n",
    "    def getLarceny(self):\n",
    "        return self.larceny\n",
    "    \n",
    "    def getMissingPerson(self):\n",
    "        return self.missing_person\n",
    "    \n",
    "    def getProstitution(self):\n",
    "        return self.prostitution\n",
    "    \n",
    "    def getVehiculeTheft(self):\n",
    "        return self.vehicule_theft\n",
    "    \n",
    "    def getWarrants(self):\n",
    "        return self.warrants\n",
    "\n",
    "    def starKiller(self, variable_name, killer, star):\n",
    "         a=list()\n",
    "         if star==True:\n",
    "             for data in variable_name:\n",
    "                 if data<killer:\n",
    "                     a.append(data)\n",
    "             variable_name=a\n",
    "         else:\n",
    "           for data in variable_name:\n",
    "              if data>killer:\n",
    "                 a.append(data)\n",
    "           variable_name=a\n",
    "\n",
    "    def one_column(self):\n",
    "        b=self.labels[:,0]*0\n",
    "        for i in range(1, 6):\n",
    "            b+=self.labels[:,i]*i\n",
    "            \n",
    "        \n",
    "        self.labels=b\n",
    "a=process()\n",
    "print a.getX()\n",
    "print a.getY()\n",
    "print a.getResolution()\n",
    "print a.getLabels()"
   ]
  },
  {
   "cell_type": "code",
   "execution_count": 2,
   "metadata": {
    "collapsed": true,
    "deletable": true,
    "editable": true
   },
   "outputs": [],
   "source": [
    "import pickle\n",
    "import matplotlib.pyplot as plt\n",
    "import numpy as np"
   ]
  },
  {
   "cell_type": "code",
   "execution_count": 3,
   "metadata": {
    "collapsed": true,
    "deletable": true,
    "editable": true
   },
   "outputs": [],
   "source": [
    "#Here are the different imports for the cross validation:\n",
    "\n",
    "from sklearn.model_selection import cross_val_score\n",
    "from sklearn.model_selection import train_test_split as tts\n",
    "\n",
    "#Here are our different SKLEARN Classifiers imports:\n",
    "\n",
    "from sklearn.base import BaseEstimator\n",
    "from sklearn.ensemble import RandomForestClassifier, AdaBoostClassifier\n",
    "from sklearn.tree import DecisionTreeClassifier\n",
    "from sklearn.base import BaseEstimator \n",
    "from sklearn.naive_bayes import GaussianNB\n",
    "from sklearn.svm import SVC\n",
    "from sklearn import neighbors, datasets\n",
    "from sklearn.neighbors import KNeighborsClassifier\n",
    "#from sklearn.neural_network import MLPClassifier\n",
    "# NOT WORKING from sklearn.gaussian_process import GaussianProcessClassifier"
   ]
  },
  {
   "cell_type": "code",
   "execution_count": 4,
   "metadata": {
    "collapsed": false,
    "deletable": true,
    "editable": true
   },
   "outputs": [],
   "source": [
    "#We want to cycle on the different classifier\n",
    "#We create one array with the classifiers methods\n",
    "#and one array with the classifier name\n",
    "\n",
    "names = [\"RandomForest\", \"KNeighbors\", \"DecisionTree\", \"GaussianNB\", \n",
    "         \"AdaBoostClassifier\"]\n",
    "         \n",
    "classifiers = [ RandomForestClassifier(), \n",
    "                KNeighborsClassifier(), \n",
    "                DecisionTreeClassifier(),\n",
    "                GaussianNB(),\n",
    "                AdaBoostClassifier()\n",
    "                ]"
   ]
  },
  {
   "cell_type": "code",
   "execution_count": 5,
   "metadata": {
    "collapsed": false,
    "deletable": true,
    "editable": true
   },
   "outputs": [],
   "source": [
    "def  best_fit(names, classifiers, x, y):\n",
    "    score_boucle_train = []\n",
    "    final_array = []\n",
    "    best=[\"\",0]\n",
    "\n",
    "    for name, clf in zip(names, classifiers):\n",
    "        score_boucle_train.append( cross_val_score(clf, x, y, cv=10, n_jobs=1 ))\n",
    "\n",
    "    final_array=np.mean(score_boucle_train, axis=1, dtype=np.float64)\n",
    "\n",
    "    for score, name in zip(final_array, names):\n",
    "        if score>best[1] :\n",
    "            best[1]=score\n",
    "            best[0]=name\n",
    "    return best"
   ]
  },
  {
   "cell_type": "code",
   "execution_count": 6,
   "metadata": {
    "collapsed": false,
    "deletable": true,
    "editable": true
   },
   "outputs": [],
   "source": [
    "A=process()\n",
    "x = A.getFeatures()\n",
    "y = A.getLabels()"
   ]
  },
  {
   "cell_type": "code",
   "execution_count": 7,
   "metadata": {
    "collapsed": false,
    "deletable": true,
    "editable": true
   },
   "outputs": [
    {
     "data": {
      "text/plain": [
       "['RandomForest', 0.68266130226308908]"
      ]
     },
     "execution_count": 7,
     "metadata": {},
     "output_type": "execute_result"
    }
   ],
   "source": [
    "best_fit(names, classifiers, x, y)"
   ]
  },
  {
   "cell_type": "code",
   "execution_count": 8,
   "metadata": {
    "collapsed": false,
    "deletable": true,
    "editable": true
   },
   "outputs": [
    {
     "data": {
      "text/plain": [
       "0.9757042484733075"
      ]
     },
     "execution_count": 8,
     "metadata": {},
     "output_type": "execute_result"
    }
   ],
   "source": [
    "clf = RandomForestClassifier()\n",
    "clf.fit(x,y)\n",
    "clf.score(x,y)"
   ]
  },
  {
   "cell_type": "code",
   "execution_count": 9,
   "metadata": {
    "collapsed": false,
    "deletable": true,
    "editable": true
   },
   "outputs": [
    {
     "name": "stdout",
     "output_type": "stream",
     "text": [
      "Using input_dir: ../public_data\n",
      "Using output_dir: C:\\Users\\tomtr\\Desktop\\Main_code_project_clean\\Main_code_project_clean\\outputs\n",
      "WARNING: Inventory data - No data file found\n",
      "========= Zipping this directory to prepare for submit ==============\n",
      "resultonly\n",
      "sauter public_data\n",
      "See: ../sample_submission_17-03-29-16-32.zip\n",
      "[+] Done\n",
      "[+] Overall time spent  2.16 sec ::  Overall time budget  0.00 sec\n"
     ]
    }
   ],
   "source": [
    "outdir = '../outputs'\n",
    "datadir = 'public_data/' \n",
    "!python run.py ../public_data ../outputs"
   ]
  },
  {
   "cell_type": "code",
   "execution_count": null,
   "metadata": {
    "collapsed": true,
    "deletable": true,
    "editable": true
   },
   "outputs": [],
   "source": []
  }
 ],
 "metadata": {
  "anaconda-cloud": {},
  "kernelspec": {
   "display_name": "Python 2",
   "language": "python",
   "name": "python2"
  },
  "language_info": {
   "codemirror_mode": {
    "name": "ipython",
    "version": 2
   },
   "file_extension": ".py",
   "mimetype": "text/x-python",
   "name": "python",
   "nbconvert_exporter": "python",
   "pygments_lexer": "ipython2",
   "version": "2.7.13"
  }
 },
 "nbformat": 4,
 "nbformat_minor": 1
}
